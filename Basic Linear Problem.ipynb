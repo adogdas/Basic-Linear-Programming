{
 "cells": [
  {
   "cell_type": "code",
   "execution_count": 1,
   "id": "1dc95b5e",
   "metadata": {},
   "outputs": [],
   "source": [
    "from pulp import *"
   ]
  },
  {
   "cell_type": "code",
   "execution_count": 4,
   "id": "d70de49a",
   "metadata": {},
   "outputs": [],
   "source": [
    "prob=LpProblem(\"Problem_1\", LpMaximize)"
   ]
  },
  {
   "cell_type": "code",
   "execution_count": 5,
   "id": "f1ebf91f",
   "metadata": {},
   "outputs": [],
   "source": [
    "x=LpVariable.dicts(\"x\", [1,2], lowBound=0, cat=\"Continuous\")"
   ]
  },
  {
   "cell_type": "code",
   "execution_count": 6,
   "id": "a3ac677b",
   "metadata": {},
   "outputs": [
    {
     "name": "stdout",
     "output_type": "stream",
     "text": [
      "{1: x_1, 2: x_2}\n"
     ]
    }
   ],
   "source": [
    "print(x)"
   ]
  },
  {
   "cell_type": "code",
   "execution_count": 7,
   "id": "2c2414c3",
   "metadata": {},
   "outputs": [],
   "source": [
    "prob += 10*x[1] + 20*x[2]"
   ]
  },
  {
   "cell_type": "code",
   "execution_count": 8,
   "id": "15607188",
   "metadata": {},
   "outputs": [
    {
     "name": "stdout",
     "output_type": "stream",
     "text": [
      "Problem_1:\n",
      "MAXIMIZE\n",
      "10*x_1 + 20*x_2 + 0\n",
      "VARIABLES\n",
      "x_1 Continuous\n",
      "x_2 Continuous\n",
      "\n"
     ]
    }
   ],
   "source": [
    "print(prob)"
   ]
  },
  {
   "cell_type": "code",
   "execution_count": 10,
   "id": "ff3a4530",
   "metadata": {},
   "outputs": [],
   "source": [
    "prob += -x[1] + 2*x[2] <= 15"
   ]
  },
  {
   "cell_type": "code",
   "execution_count": 11,
   "id": "5e26a1c3",
   "metadata": {},
   "outputs": [],
   "source": [
    "prob += x[1] + x[2] <= 12"
   ]
  },
  {
   "cell_type": "code",
   "execution_count": 13,
   "id": "32b1366b",
   "metadata": {},
   "outputs": [],
   "source": [
    "prob += 5*x[1] + 3*x[2] <= 45"
   ]
  },
  {
   "cell_type": "code",
   "execution_count": 14,
   "id": "60885f07",
   "metadata": {},
   "outputs": [
    {
     "data": {
      "text/plain": [
       "1"
      ]
     },
     "execution_count": 14,
     "metadata": {},
     "output_type": "execute_result"
    }
   ],
   "source": [
    "prob.solve()"
   ]
  },
  {
   "cell_type": "code",
   "execution_count": 15,
   "id": "6747c738",
   "metadata": {},
   "outputs": [],
   "source": [
    "status = prob.solve()"
   ]
  },
  {
   "cell_type": "code",
   "execution_count": 16,
   "id": "1a45f023",
   "metadata": {},
   "outputs": [
    {
     "name": "stdout",
     "output_type": "stream",
     "text": [
      "Optimal\n"
     ]
    }
   ],
   "source": [
    "print(LpStatus[status])"
   ]
  },
  {
   "cell_type": "code",
   "execution_count": 17,
   "id": "ea388ed4",
   "metadata": {},
   "outputs": [
    {
     "name": "stdout",
     "output_type": "stream",
     "text": [
      "x_1 = 9.0\n",
      "x_2 = 0.0\n"
     ]
    }
   ],
   "source": [
    "for var in prob.variables():\n",
    "    print(f\"{var.name} = {var.varValue}\")"
   ]
  },
  {
   "cell_type": "code",
   "execution_count": null,
   "id": "5d513ff7",
   "metadata": {},
   "outputs": [],
   "source": []
  }
 ],
 "metadata": {
  "kernelspec": {
   "display_name": "Python 3 (ipykernel)",
   "language": "python",
   "name": "python3"
  },
  "language_info": {
   "codemirror_mode": {
    "name": "ipython",
    "version": 3
   },
   "file_extension": ".py",
   "mimetype": "text/x-python",
   "name": "python",
   "nbconvert_exporter": "python",
   "pygments_lexer": "ipython3",
   "version": "3.9.13"
  }
 },
 "nbformat": 4,
 "nbformat_minor": 5
}
